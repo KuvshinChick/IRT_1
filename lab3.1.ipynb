{
 "cells": [
  {
   "cell_type": "markdown",
   "metadata": {},
   "source": [
    "# Лабораторная работа 3.1"
   ]
  },
  {
   "cell_type": "markdown",
   "metadata": {},
   "source": [
    "## Счастливый билетик\n",
    "\n",
    "![](http://f2.mylove.ru/UNiHT7dRJ4.jpg)\n",
    "\n",
    "Билет считается счастливым, если выполнено следующее условие: сумма первых трёх цифр номера равна сумме последних трёх цифр.\n",
    "\n",
    "**Задание:**\n",
    "\n",
    "1) Определите число `ticket_number` — шестизначный номер билета;\n",
    "\n",
    "2) Напишите код, который по шестизначному номеру `ticket_number` билетика проверяет, является ли он счастливым;\n",
    "\n",
    "3) Если номер счастливый, выведите строку `Yes`, иначе — `No`.\n",
    "\n",
    "---\n",
    "\n",
    "**Пример 1:**\n",
    "\n",
    "*Input:* 123456\n",
    "\n",
    "*Output:* No\n",
    "\n",
    "\n",
    "**Пример 2:**\n",
    "\n",
    "*Input:* 123042\n",
    "\n",
    "*Output:* Yes"
   ]
  },
  {
   "cell_type": "code",
   "execution_count": 13,
   "metadata": {},
   "outputs": [],
   "source": [
    "ticket_number = 277011"
   ]
  },
  {
   "cell_type": "code",
   "execution_count": 14,
   "metadata": {},
   "outputs": [
    {
     "name": "stdout",
     "output_type": "stream",
     "text": [
      "No\n"
     ]
    }
   ],
   "source": [
    "num1 = ticket_number//1000\n",
    "num2 = ticket_number%1000\n",
    "if sum(map(int,str(num1))) == sum(map(int,str(num2))):\n",
    "    print(\"Yes\")\n",
    "else:\n",
    "    print(\"No\")"
   ]
  },
  {
   "cell_type": "markdown",
   "metadata": {},
   "source": [
    "## Пароль\n",
    "\n",
    "![](http://forum.ixbt.com/post.cgi?id=attach:77:14138:1341:1)\n",
    "\n",
    "Пусть пароль может содержать только латинские буквы, знаки препинания и цифры.\n",
    "\n",
    "Пароль считается надёжным, если удовлетворяет следующим условиям:\n",
    "- содержит буквы в разных регистрах;\n",
    "- содержит цифры;\n",
    "- содержит не менее `4` уникальных символов;\n",
    "- не содержит ваше имя латинницей, записанное буквами любых регистров (anna, iVan, ...).\n",
    "\n",
    "Иначе пароль считается слабым.\n",
    "\n",
    "**Задание:**\n",
    "\n",
    "1) Определите строку `password` — придуманный вами пароль;\n",
    "\n",
    "2) Напишите код, который по паролю `password` проверяет, является ли он надёжным;\n",
    "\n",
    "3) Если пароль надёжный, выведите строку `strong`, иначе — `weak`.\n",
    "\n",
    "\n",
    "---\n",
    "\n",
    "Пусть имя пользоватея -- Андрей.\n",
    "\n",
    "**Пример 1:**\n",
    "\n",
    "*Input:* Aandrei123\n",
    "\n",
    "*Output:* weak\n",
    "\n",
    "\n",
    "**Пример 2:**\n",
    "\n",
    "*Input:* an12dRei\n",
    "\n",
    "*Output:* strong"
   ]
  },
  {
   "cell_type": "code",
   "execution_count": 54,
   "metadata": {
    "scrolled": true
   },
   "outputs": [
    {
     "name": "stdout",
     "output_type": "stream",
     "text": [
      "Enter your name:gip\n",
      "Enter your password:46456\n"
     ]
    }
   ],
   "source": [
    "name = input(\"Enter your name:\")\n",
    "password = input(\"Enter your password:\")"
   ]
  },
  {
   "cell_type": "code",
   "execution_count": 55,
   "metadata": {},
   "outputs": [
    {
     "name": "stdout",
     "output_type": "stream",
     "text": [
      "weak\n"
     ]
    }
   ],
   "source": [
    "if not(password == password.lower() or password.upper() == password or password.isalpha() or password.isdigit() \n",
    "   or len(set(password)) < 4 or name.lower() in password.lower()):\n",
    "  print(\"strong\")\n",
    "else:\n",
    "  print(\"weak\")"
   ]
  },
  {
   "cell_type": "markdown",
   "metadata": {},
   "source": [
    "## Числа Фибоначчи\n",
    "Как известно, [числа Фибоначчи](https://ru.wikipedia.org/wiki/%D0%A7%D0%B8%D1%81%D0%BB%D0%B0_%D0%A4%D0%B8%D0%B1%D0%BE%D0%BD%D0%B0%D1%87%D1%87%D0%B8) — это последовательность чисел, каждое из которых равно сумме двух предыдущих (первые два числа равны $1$):\n",
    "$$\n",
    "    1, 1, 2, 3, 5, 8, 13, \\ldots\n",
    "$$\n",
    "\n",
    "**Задание:**\n",
    "\n",
    "1) Определите число `amount` — количество чисел Фибоначчи, которые надо вывести;\n",
    "\n",
    "2) Напишите код, который выводит первые `amount` чисел Фибоначчи.\n",
    "\n",
    "---\n",
    "\n",
    "**Пример 1:**\n",
    "\n",
    "*Input:* 3\n",
    "\n",
    "*Output:* 1 1 2\n",
    "\n",
    "\n",
    "**Пример 2:**\n",
    "\n",
    "*Input:* 10\n",
    "\n",
    "*Output:* 1 1 2 3 5 8 13 21 34 55\n"
   ]
  },
  {
   "cell_type": "code",
   "execution_count": 52,
   "metadata": {
    "scrolled": true
   },
   "outputs": [
    {
     "name": "stdout",
     "output_type": "stream",
     "text": [
      "Enter a number: 11\n"
     ]
    }
   ],
   "source": [
    "amount = int(input(\"Enter a number: \"))"
   ]
  },
  {
   "cell_type": "code",
   "execution_count": 53,
   "metadata": {
    "scrolled": false
   },
   "outputs": [
    {
     "name": "stdout",
     "output_type": "stream",
     "text": [
      "1 1 2 3 5 8 13 21 34 55 89 "
     ]
    }
   ],
   "source": [
    "num = 0\n",
    "temp_sum = 1\n",
    "for i in range(amount):\n",
    "    sum = num + temp_sum\n",
    "    num = temp_sum\n",
    "    print (temp_sum, end=\" \")\n",
    "    temp_sum = sum"
   ]
  },
  {
   "cell_type": "markdown",
   "metadata": {},
   "source": [
    "## Время исследований\n",
    "\n",
    "![](https://2.bp.blogspot.com/-VOT5x12UqPY/WSh53tQ94HI/AAAAAAAAAMY/-nlcz28_Fj4UzJjbn4bBINKCnzwag1W4QCLcB/s1600/my-pic-widget.jpg)\n",
    "\n",
    "На сайте https://www.kaggle.com/ выберите любой набор данных в формате CSV и проведите для него маленькое исследование: загрузите данные из набора с использованием стандартного модуля `csv`, посмотрите средние значения и стандартные отклонения двух выбранных числовых атрибутов, найдите [методом наименьших квадратов](https://ru.wikipedia.org/wiki/%D0%9C%D0%B5%D1%82%D0%BE%D0%B4_%D0%BD%D0%B0%D0%B8%D0%BC%D0%B5%D0%BD%D1%8C%D1%88%D0%B8%D1%85_%D0%BA%D0%B2%D0%B0%D0%B4%D1%80%D0%B0%D1%82%D0%BE%D0%B2) уравнение линейной зависимости, связывающей один числовой атрибут с другим. Для оценки заданной зависимости найдите [коэффициент парной корреляции](https://ru.wikipedia.org/wiki/%D0%9A%D0%BE%D1%80%D1%80%D0%B5%D0%BB%D1%8F%D1%86%D0%B8%D1%8F), сделайте соответствующие выводы.\n",
    "\n",
    "**Результаты надо обязательно прокомментировать и пояснить!**\n",
    "\n",
    "---\n",
    "\n",
    "**Пример 1:**\n",
    "\n",
    "Пусть таблица `bikes.csv` содержит данные по арендам велосипедов за $2$ года:\n",
    "- `datetime`: дата и время аренды\n",
    "- `season`: время года\n",
    "- `temp`: температура воздуха по Цельсию\n",
    "- `windspeed`: скорость ветра \n",
    "- `registered`: число аренд\n",
    "\n",
    "Одно из направлений исследования могло бы заключаться в проверке зависимости суммарного числа аренд от температуры воздуха."
   ]
  },
  {
   "cell_type": "markdown",
   "metadata": {},
   "source": [
    "Этот набор данных(vgsales.csv) содержит список видеоигр, продажи которых превысили 100 000 копий. Направление исследования заключается в проверке зависимости года выпуска игры от продаж в Европе(в миллионах).\n",
    "После открытия файла формируются списки:\n",
    "1) Жанры игр\n",
    "2) Число продаж\n"
   ]
  },
  {
   "cell_type": "code",
   "execution_count": 33,
   "metadata": {
    "scrolled": true
   },
   "outputs": [
    {
     "name": "stdout",
     "output_type": "stream",
     "text": [
      "Среднее значение года выпуска игры: 2006.4064433147546\n",
      "Среднее значение продаж в Европе в миллионах: 0.14755435781224593\n",
      "______________\n",
      "Cтандартные отклонения года выпуска игры: 5.828981114712805\n",
      "Cтандартные отклонения значений продаж в Европе в миллионах: 0.5087656986961251\n"
     ]
    }
   ],
   "source": [
    "import csv\n",
    "import statistics\n",
    "import math\n",
    "from matplotlib import pylab as plt\n",
    "%matplotlib inline\n",
    "\n",
    "\n",
    "# Открытие файла только для чтения\n",
    "with open('vgsales.csv', 'r', newline='', encoding='utf-8') as csvfile:\n",
    "    reader = csv.reader(csvfile, delimiter=',')\n",
    "    # Списки\n",
    "    Year  = []\n",
    "    EU_Sales = []\n",
    "    # Пропуск заголовка\n",
    "    next(reader)\n",
    "    # Заполнение списков\n",
    "    for row in reader:\n",
    "        if row[3] != \"N/A\":\n",
    "            Year.append(float(row[3]))\n",
    "            EU_Sales.append(float(row[7]))\n",
    "        \n",
    "# Подсчет средних значений\n",
    "mean_Year = sum(Year) / len(Year)\n",
    "mean_EU_Sales = sum(EU_Sales) / len(EU_Sales)\n",
    "print(f\"Среднее значение года выпуска игры: {mean_Year}\")\n",
    "print(f\"Среднее значение продаж в Европе в миллионах: {mean_EU_Sales}\")\n",
    "\n",
    "# Cтандартные отклонения двух выбранных числовых атрибутов\n",
    "Year_std = statistics.stdev(Year)\n",
    "EU_Sales_std = statistics.stdev(EU_Sales)\n",
    "print(\"______________\")\n",
    "print(f\"Cтандартные отклонения года выпуска игры: {Year_std}\")\n",
    "print(f\"Cтандартные отклонения значений продаж в Европе в миллионах: {EU_Sales_std}\")"
   ]
  },
  {
   "cell_type": "markdown",
   "metadata": {},
   "source": [
    "https://al-shell.ru/articles/zadachi-regressionnogo-analiza-metod-naimenshih-kvadratov-uravnenie-lineynoy-regressii/ - описание"
   ]
  },
  {
   "cell_type": "code",
   "execution_count": 43,
   "metadata": {},
   "outputs": [
    {
     "name": "stdout",
     "output_type": "stream",
     "text": [
      "Уравнение линейной зависимости: y = 0.0005249047035943598x + -0.905617821605699\n",
      "График функции методом наименьших квадратов: \n"
     ]
    },
    {
     "data": {
      "text/plain": [
       "[<matplotlib.lines.Line2D at 0x2cc01692520>]"
      ]
     },
     "execution_count": 43,
     "metadata": {},
     "output_type": "execute_result"
    },
    {
     "data": {
      "image/png": "[encoded data removed]",
      "text/plain": [
       "<Figure size 640x480 with 1 Axes>"
      ]
     },
     "metadata": {},
     "output_type": "display_data"
    }
   ],
   "source": [
    "# Сумма значений года выпуска\n",
    "sum_Year = sum(Year)\n",
    "# Сумма значений продаж\n",
    "sum_EU_Sales = sum(EU_Sales)\n",
    "\n",
    "# Сумма произведений элементов и квадртат значений года выпуска\n",
    "sum_mult = 0\n",
    "sum_square_year = 0\n",
    "    \n",
    "for i, elem in enumerate(Year):\n",
    "    sum_mult += elem * EU_Sales[i]\n",
    "    sum_square_year += elem**2\n",
    "    \n",
    "n = len(Year)\n",
    "# Нахождение коэффициентов по формулам\n",
    "k = (n * sum_mult - sum_Year * sum_EU_Sales)/(n * sum_square_year - sum_Year**2)\n",
    "b = (sum_EU_Sales - k * sum_Year)/n\n",
    "\n",
    "# Значения функции\n",
    "func_val = []\n",
    "for elem in Year:\n",
    "    func_val.append(k * elem + b)\n",
    "print(f\"Уравнение линейной зависимости: y = {k}x + {b}\")\n",
    "print(\"График функции методом наименьших квадратов: \")\n",
    "\n",
    "# График\n",
    "plt.plot(Year,func_val)"
   ]
  },
  {
   "cell_type": "markdown",
   "metadata": {},
   "source": [
    "http://www.rnz.ru/econometrica/raschet_koefficienta_korrelyatsii.php - описание "
   ]
  },
  {
   "cell_type": "code",
   "execution_count": 42,
   "metadata": {
    "scrolled": true
   },
   "outputs": [
    {
     "name": "stdout",
     "output_type": "stream",
     "text": [
      "Коэффициент парной корреляции: 9.251189352935169e-05\n"
     ]
    }
   ],
   "source": [
    "# Сумма значений года выпуска\n",
    "sum_Year = sum(Year)\n",
    "# Сумма значений продаж\n",
    "sum_EU_Sales = sum(EU_Sales)\n",
    "\n",
    "# Сумма произведений элементов, квадртат значений года выпуска\n",
    "# и квадртат значений продаж в Европе в миллионах\n",
    "sum_mult = 0\n",
    "sum_square_year = 0\n",
    "sum_square_EU_Sales = 0   \n",
    "\n",
    "for i, elem in enumerate(Year):\n",
    "    sum_mult += elem * EU_Sales[i]\n",
    "    sum_square_year += elem**2\n",
    "    sum_square_EU_Sales += EU_Sales[i]**2\n",
    "    \n",
    "n = len(Year)\n",
    "# Нахождение коэффициента корреляции по формуле\n",
    "r = (sum_mult - sum_Year * sum_EU_Sales/n)/(sqrt(sum_square_year-sum_Year**2/n)*(sum_square_EU_Sales-sum_EU_Sales**2/n))\n",
    "print(f\"Коэффициент парной корреляции: {r}\")\n",
    "\n"
   ]
  },
  {
   "cell_type": "markdown",
   "metadata": {},
   "source": [
    "Значение -0.0000925 можно рассматривать как почти полное отсутствие корреляции."
   ]
  }
 ],
 "metadata": {
  "anaconda-cloud": {},
  "kernelspec": {
   "display_name": "Python 3 (ipykernel)",
   "language": "python",
   "name": "python3"
  },
  "language_info": {
   "codemirror_mode": {
    "name": "ipython",
    "version": 3
   },
   "file_extension": ".py",
   "mimetype": "text/x-python",
   "name": "python",
   "nbconvert_exporter": "python",
   "pygments_lexer": "ipython3",
   "version": "3.9.13"
  }
 },
 "nbformat": 4,
 "nbformat_minor": 1
}
